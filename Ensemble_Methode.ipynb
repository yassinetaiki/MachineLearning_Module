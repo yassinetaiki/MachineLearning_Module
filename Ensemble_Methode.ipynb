{
 "cells": [
  {
   "cell_type": "code",
   "execution_count": 33,
   "id": "938ac6de-ba9a-4a4d-8b11-287e6cf9ccc9",
   "metadata": {},
   "outputs": [
    {
     "name": "stderr",
     "output_type": "stream",
     "text": [
      "c:\\users\\packard bell\\appdata\\local\\programs\\python\\python37-32\\lib\\site-packages\\sklearn\\svm\\_base.py:986: ConvergenceWarning: Liblinear failed to converge, increase the number of iterations.\n",
      "  \"the number of iterations.\", ConvergenceWarning)\n",
      "c:\\users\\packard bell\\appdata\\local\\programs\\python\\python37-32\\lib\\site-packages\\sklearn\\svm\\_base.py:986: ConvergenceWarning: Liblinear failed to converge, increase the number of iterations.\n",
      "  \"the number of iterations.\", ConvergenceWarning)\n"
     ]
    },
    {
     "name": "stdout",
     "output_type": "stream",
     "text": [
      "SGDClassifier_score  => 1.0\n",
      "\n",
      "LineraDiscriminanteAnalysis_Score => 1.0\n",
      "\n",
      "KNeighborsClassifier => 0.9666666666666667\n",
      "\n",
      " LinearSvc => 1.0\n",
      "\n",
      " VotingClassifier_Score => 1.0\n",
      "\n",
      " Bagging Classifier_KNC_score => 1.0\n",
      "\n",
      " Bagging Classifier_LDA_score => 1.0\n",
      "\n",
      " RandomForestlassifier_Score => 0.9666666666666667\n",
      "\n",
      " AdaBoostClassifier_score => 0.9\n",
      "\n",
      " GradientBoostingClassifier_score => 1.0\n",
      "\n",
      "StackingClassifier_score =>"
     ]
    },
    {
     "name": "stderr",
     "output_type": "stream",
     "text": [
      "c:\\users\\packard bell\\appdata\\local\\programs\\python\\python37-32\\lib\\site-packages\\sklearn\\svm\\_base.py:986: ConvergenceWarning: Liblinear failed to converge, increase the number of iterations.\n",
      "  \"the number of iterations.\", ConvergenceWarning)\n",
      "c:\\users\\packard bell\\appdata\\local\\programs\\python\\python37-32\\lib\\site-packages\\sklearn\\svm\\_base.py:986: ConvergenceWarning: Liblinear failed to converge, increase the number of iterations.\n",
      "  \"the number of iterations.\", ConvergenceWarning)\n",
      "c:\\users\\packard bell\\appdata\\local\\programs\\python\\python37-32\\lib\\site-packages\\sklearn\\svm\\_base.py:986: ConvergenceWarning: Liblinear failed to converge, increase the number of iterations.\n",
      "  \"the number of iterations.\", ConvergenceWarning)\n",
      "c:\\users\\packard bell\\appdata\\local\\programs\\python\\python37-32\\lib\\site-packages\\sklearn\\svm\\_base.py:986: ConvergenceWarning: Liblinear failed to converge, increase the number of iterations.\n",
      "  \"the number of iterations.\", ConvergenceWarning)\n",
      "c:\\users\\packard bell\\appdata\\local\\programs\\python\\python37-32\\lib\\site-packages\\sklearn\\svm\\_base.py:986: ConvergenceWarning: Liblinear failed to converge, increase the number of iterations.\n",
      "  \"the number of iterations.\", ConvergenceWarning)\n",
      "c:\\users\\packard bell\\appdata\\local\\programs\\python\\python37-32\\lib\\site-packages\\sklearn\\svm\\_base.py:986: ConvergenceWarning: Liblinear failed to converge, increase the number of iterations.\n",
      "  \"the number of iterations.\", ConvergenceWarning)\n"
     ]
    },
    {
     "name": "stdout",
     "output_type": "stream",
     "text": [
      " 0.9666666666666667\n"
     ]
    },
    {
     "data": {
      "text/plain": [
       "<matplotlib.collections.PathCollection at 0xee1f850>"
      ]
     },
     "execution_count": 33,
     "metadata": {},
     "output_type": "execute_result"
    },
    {
     "data": {
      "image/png": "[encoded data removed]",
      "text/plain": [
       "<Figure size 432x288 with 1 Axes>"
      ]
     },
     "metadata": {
      "needs_background": "light"
     },
     "output_type": "display_data"
    }
   ],
   "source": [
    "from sklearn.datasets import load_iris\n",
    "from sklearn.preprocessing import *\n",
    "from sklearn.model_selection import *\n",
    "from sklearn.ensemble import *\n",
    "from sklearn.discriminant_analysis import *\n",
    "from sklearn.neighbors import *\n",
    "from sklearn.svm import *\n",
    "from sklearn.linear_model import *\n",
    "import matplotlib.pyplot as plt \n",
    " \n",
    "                        ## windsom of the crowd ##\n",
    "\n",
    "#data\n",
    "iris=load_iris()\n",
    "x=iris.data\n",
    "y=iris.target \n",
    "\n",
    "##partitonement\n",
    "xtrain,xtest,ytrain,ytest=train_test_split(x,y,train_size=0.8,random_state=0)\n",
    "\n",
    "## modeles ##\n",
    "modele1=SGDClassifier(random_state=0)\n",
    "modele2=LinearDiscriminantAnalysis()\n",
    "modele3=KNeighborsClassifier()\n",
    "modele4=LinearSVC()\n",
    "\n",
    "for mod in (modele1,modele2,modele3,modele4):\n",
    "    mod.fit(xtrain,ytrain)\n",
    "\n",
    "print(\"SGDClassifier_score  =>\",modele1.score(xtest,ytest))\n",
    "print(\"\")\n",
    "print(\"LineraDiscriminanteAnalysis_Score =>\",modele2.score(xtest,ytest))\n",
    "print(\"\")\n",
    "print(\"KNeighborsClassifier =>\",modele3.score(xtest,ytest))\n",
    "print(\"\")\n",
    "print(\" LinearSvc =>\",modele4.score(xtest,ytest))\n",
    "\n",
    "                         ######## modele_principal => Votingclassifier,VotingRegressor #####\n",
    "modele_princip=VotingClassifier([('lda',modele2),('KNC',modele3),('svc',modele4),('SGD',modele1)],voting='hard') ##voting hard: votre sur les predictions\n",
    "                                                                        #voting='soft' vote sur la probabilites de chaque classe\n",
    "modele_princip.fit(xtrain,ytrain)\n",
    "print(\"\")\n",
    "print(\" VotingClassifier_Score =>\",modele_princip.score(xtest,ytest))\n",
    "\n",
    "\n",
    "                        ############# bagging : BaggingClassifier , BaggingRegressor (overfitting) #################\n",
    "modele5=BaggingClassifier(KNeighborsClassifier(),n_estimators=100)\n",
    "modele5.fit(xtrain,ytrain)\n",
    "print(\"\")\n",
    "print( \" Bagging Classifier_KNC_score =>\",modele5.score(xtest,ytest))\n",
    "\n",
    "modele6=BaggingClassifier(LinearDiscriminantAnalysis(),n_estimators=100)\n",
    "modele6.fit(xtrain,ytrain)\n",
    "print(\"\")\n",
    "print( \" Bagging Classifier_LDA_score =>\",modele6.score(xtest,ytest))\n",
    "\n",
    "modele7=RandomForestClassifier(n_estimators=100) #pas besoin d'estimateur de base (estimate_base=arbre_decision)\n",
    "modele7.fit(xtrain,ytrain)\n",
    "print(\"\")\n",
    "print( \" RandomForestlassifier_Score =>\",modele7.score(xtest,ytest))\n",
    "\n",
    "\n",
    "             ########## Boosting-AdaBoostClassifier,GradientBoostingClassifier (underfitting)  ############\n",
    "\n",
    "modele8=AdaBoostClassifier(n_estimators=100)\n",
    "modele8.fit(xtrain,ytrain)\n",
    "print(\"\")\n",
    "print( \" AdaBoostClassifier_score =>\",modele8.score(xtest,ytest))\n",
    "\n",
    "modele9=GradientBoostingClassifier(n_estimators=100)\n",
    "modele9.fit(xtrain,ytrain)\n",
    "print(\"\")\n",
    "print( \" GradientBoostingClassifier_score =>\",modele9.score(xtest,ytest))\n",
    "                \n",
    "    \n",
    "                        ############ stacking :StackingClassifier,stackingRgerssor ###################\n",
    "modele10=modele_princip=StackingClassifier([('lda',modele2),('KNC',modele3),('svc',modele4),('SGD',modele1)],final_estimator=KNeighborsClassifier())\n",
    "modele10.fit(xtrain,ytrain)\n",
    "print(\"\")\n",
    "print( \"StackingClassifier_score =>\",modele10.score(xtest,ytest))\n",
    "\n",
    "fig=plt.figure()\n",
    "plt.scatter(x[:,0],x[:,1],c=modele10.predict(x))"
   ]
  },
  {
   "cell_type": "code",
   "execution_count": null,
   "id": "6015e51f-9f68-413f-acd6-01659c60393f",
   "metadata": {},
   "outputs": [],
   "source": []
  }
 ],
 "metadata": {
  "kernelspec": {
   "display_name": "Python 3",
   "language": "python",
   "name": "python3"
  },
  "language_info": {
   "codemirror_mode": {
    "name": "ipython",
    "version": 3
   },
   "file_extension": ".py",
   "mimetype": "text/x-python",
   "name": "python",
   "nbconvert_exporter": "python",
   "pygments_lexer": "ipython3",
   "version": "3.7.3"
  }
 },
 "nbformat": 4,
 "nbformat_minor": 5
}
