{
 "cells": [
  {
   "cell_type": "code",
   "execution_count": 56,
   "id": "00451a8b-75f8-4bc9-8e87-d75cbcd12308",
   "metadata": {},
   "outputs": [
    {
     "name": "stdout",
     "output_type": "stream",
     "text": [
      "(150, 4)\n",
      "prediction => [ 1  1  1  1  1  1  1  1  1  1  1  1  1  1  1  1  1  1  1  1  1  1  1  1\n",
      "  1  1  1  1  1  1  1  1  1  1  1  1  1  1  1  1  1  1  1  1  1  1  1  1\n",
      "  1  1  1  1  1  1  1  1  1  1  1  1  1  1  1  1  1  1  1  1  1  1  1  1\n",
      "  1  1  1  1  1  1  1  1  1  1  1  1  1  1  1  1  1  1  1  1  1  1  1  1\n",
      "  1  1  1  1  1  1  1  1  1  1  1  1  1  1  1  1  1  1  1  1  1  1 -1  1\n",
      "  1  1  1  1  1  1  1  1  1  1  1 -1  1  1  1  1  1  1  1  1  1  1  1  1\n",
      "  1  1  1  1  1  1]\n",
      "\n",
      "{'bootstrap': False, 'contamination': 0.01, 'max_features': 1.0, 'max_samples': 'auto', 'n_estimators': 100, 'n_jobs': None, 'random_state': 0, 'verbose': 0, 'warm_start': False}\n",
      "\n",
      "[ 0.2284453   0.21120515  0.18836861  0.17730326  0.22619241  0.13718916\n",
      "  0.14418249  0.23838212  0.10662202  0.16483981  0.18925863  0.20947019\n",
      "  0.15906971  0.0187915   0.05825896  0.05186411  0.12458093  0.20567511\n",
      "  0.11109214  0.19181629  0.16810467  0.18527608  0.07158944  0.14875709\n",
      "  0.14309534  0.20100659  0.18974086  0.22341553  0.21859443  0.18665149\n",
      "  0.20078721  0.16898697  0.08802546  0.09190186  0.22112942  0.16963621\n",
      "  0.15639358  0.16294186  0.14173447  0.23525485  0.18998948  0.02438162\n",
      "  0.14216774  0.13769982  0.12379859  0.17095807  0.19166545  0.18607321\n",
      "  0.20070949  0.22577624  0.13244158  0.19386733  0.17677741  0.16949902\n",
      "  0.21761838  0.23002569  0.16755287  0.11556735  0.19098139  0.14390674\n",
      "  0.06481624  0.20984428  0.11432676  0.23826472  0.17588452  0.18545787\n",
      "  0.21928861  0.1751517   0.16264738  0.17904006  0.17412678  0.20998375\n",
      "  0.20416467  0.20386644  0.20156469  0.20790158  0.17899631  0.19306839\n",
      "  0.23807116  0.15058531  0.17623368  0.16119849  0.20012333  0.21349308\n",
      "  0.19478069  0.12586478  0.20679574  0.16115196  0.2089586   0.19701145\n",
      "  0.18424615  0.23605286  0.20082956  0.1161944   0.21697455  0.20066772\n",
      "  0.2294189   0.22326874  0.09987231  0.22805503  0.08159069  0.20043818\n",
      "  0.17336607  0.19290085  0.17706951  0.08285174  0.07457353  0.10859188\n",
      "  0.12648281  0.03252041  0.17329685  0.19036611  0.18705753  0.13956797\n",
      "  0.0997742   0.16898338  0.21027973  0.00348957 -0.00335272  0.14309115\n",
      "  0.15827379  0.14560536  0.07382102  0.21363717  0.15772633  0.1358271\n",
      "  0.21847144  0.22269917  0.18393154  0.13534952  0.11713493 -0.01159466\n",
      "  0.17352716  0.22543145  0.15355115  0.08000596  0.11462895  0.19900721\n",
      "  0.22178905  0.17809072  0.14464917  0.15640613  0.20043818  0.15486197\n",
      "  0.10712454  0.17517795  0.16812738  0.20205224  0.11823416  0.21606858]\n",
      "4\n",
      "[False False False False False False False False False False False False\n",
      " False False False False False False False False False False False False\n",
      " False False False False False False False False False False False False\n",
      " False False False False False False False False False False False False\n",
      " False False False False False False False False False False False False\n",
      " False False False False False False False False False False False False\n",
      " False False False False False False False False False False False False\n",
      " False False False False False False False False False False False False\n",
      " False False False False False False False False False False False False\n",
      " False False False False False False False False False False  True False\n",
      " False False False False False False False False False False False  True\n",
      " False False False False False False False False False False False False\n",
      " False False False False False False]\n",
      "\n",
      "anomalies =>  [[7.7 2.6 6.9 2.3]\n",
      " [7.9 3.8 6.4 2. ]]\n",
      "(2, 4)\n"
     ]
    },
    {
     "data": {
      "text/plain": [
       "Text(0.5, 1.0, 'Anomalie')"
      ]
     },
     "execution_count": 56,
     "metadata": {},
     "output_type": "execute_result"
    },
    {
     "data": {
      "image/png": "[encoded data removed]",
      "text/plain": [
       "<Figure size 432x288 with 2 Axes>"
      ]
     },
     "metadata": {
      "needs_background": "light"
     },
     "output_type": "display_data"
    }
   ],
   "source": [
    "from sklearn.ensemble import *\n",
    "from sklearn.preprocessing import *\n",
    "import pandas as pd\n",
    "from sklearn.datasets import load_iris\n",
    "import matplotlib.pyplot as plt\n",
    "import numpy as np \n",
    "\n",
    "\n",
    "iris=load_iris()\n",
    "x=iris.data\n",
    "y=iris.target\n",
    " \n",
    "print(x.shape)\n",
    "## Isolation forest : faible nombre de split(trait_Othogonaux) = forte probabilites d'anomalie \n",
    "modele=IsolationForest(random_state=0,contamination=0.01) #contamionation pour preciser le pourcentage de dechets de donnees (1%)\n",
    "modele.fit(x)\n",
    "print(\"prediction =>\", modele.predict(x)) #1 pour valeures intermediares -1 : valeures aberrantes \n",
    "print(\"\")\n",
    "print(modele.get_params())\n",
    "print(\"\")\n",
    "print(modele.decision_function(x)) ##score moyen de normalite \n",
    "print(modele.n_features_in_)\n",
    "\n",
    "##affichage d'anomalie \n",
    "anomalie = modele.predict(x) == -1\n",
    "print(anomalie)\n",
    "print(\"\")\n",
    "print(\"anomalies => \",x[anomalie])\n",
    "print(x[anomalie].shape)\n",
    "\n",
    "##visualisation d'anomalie \n",
    "fig1=plt.figure()\n",
    "fig1.add_subplot(2,1,1)\n",
    "plt.scatter(x[:,0],x[:,1],c='b')\n",
    "plt.title(\"data\")\n",
    "\n",
    "fig1.add_subplot(2,1,2)\n",
    "plt.scatter(x[anomalie][:,0],x[anomalie][:,1],c='r')\n",
    "plt.title(\"Anomalie\")\n",
    "\n"
   ]
  },
  {
   "cell_type": "code",
   "execution_count": 69,
   "id": "65e12003-7e74-49ec-9b36-970a8c2df55d",
   "metadata": {},
   "outputs": [
    {
     "name": "stdout",
     "output_type": "stream",
     "text": [
      "(1797, 64)\n",
      "(1797,)\n",
      "(1797, 8, 8)\n"
     ]
    },
    {
     "name": "stderr",
     "output_type": "stream",
     "text": [
      "c:\\users\\packard bell\\appdata\\local\\programs\\python\\python37-32\\lib\\site-packages\\sklearn\\covariance\\_robust_covariance.py:647: UserWarning: The covariance matrix associated to your dataset is not full rank\n",
      "  warnings.warn(\"The covariance matrix associated to your dataset \"\n"
     ]
    },
    {
     "name": "stdout",
     "output_type": "stream",
     "text": [
      "prediction => [1 1 1 ... 1 1 1]\n",
      "[False False False ... False False False]\n",
      "nombre d'anomalie detecte => 18\n"
     ]
    },
    {
     "data": {
      "text/plain": [
       "Text(0.5, 1.0, '1')"
      ]
     },
     "execution_count": 69,
     "metadata": {},
     "output_type": "execute_result"
    },
    {
     "data": {
      "image/png": "[encoded data removed]",
      "text/plain": [
       "<Figure size 576x648 with 4 Axes>"
      ]
     },
     "metadata": {
      "needs_background": "light"
     },
     "output_type": "display_data"
    }
   ],
   "source": [
    "#### data : load_digits ######\n",
    "from sklearn.datasets import load_digits\n",
    "from sklearn.covariance import *\n",
    "\n",
    "digits=load_digits()\n",
    "image=digits.images\n",
    "x1=digits.data\n",
    "y1=digits.target\n",
    "\n",
    "print(x1.shape)\n",
    "print(y1.shape)\n",
    "print(image.shape)\n",
    "\n",
    "## modele : EllipticEnvelope ### hypotheses : data suit une lui normale et apprend une ellipse\n",
    "modele2=EllipticEnvelope(random_state=0,contamination=0.01)\n",
    "modele2.fit(x1)\n",
    "print(\"prediction =>\",modele2.predict(x1))\n",
    "\n",
    "anomalie_2= modele2.predict(x1)== -1\n",
    "print(anomalie_2)\n",
    "print(\"nombre d'anomalie detecte =>\",x1[anomalie_2].shape[0])\n",
    "\n",
    "##visualisation de quelques anomalie ##\n",
    "fig2=plt.figure(figsize=(8,9))\n",
    "fig2.add_subplot(2,2,1)\n",
    "plt.imshow(image[anomalie_2][1])\n",
    "plt.title(y1[anomalie_2][1])\n",
    "\n",
    "fig2.add_subplot(2,2,2)\n",
    "plt.imshow(image[anomalie_2][2])\n",
    "plt.title(y1[anomalie_2][2])\n",
    "\n",
    "fig2.add_subplot(2,2,3)\n",
    "plt.imshow(image[anomalie_2][3])\n",
    "plt.title(y1[anomalie_2][3])\n",
    "\n",
    "fig2.add_subplot(2,2,4)\n",
    "plt.imshow(image[anomalie_2][4])\n",
    "plt.title(y1[anomalie_2][4])\n",
    "\n"
   ]
  },
  {
   "cell_type": "code",
   "execution_count": 72,
   "id": "d8c6ff3d-5c69-476a-833a-e6873793d074",
   "metadata": {},
   "outputs": [
    {
     "name": "stdout",
     "output_type": "stream",
     "text": [
      "prediction => [1 1 1 ... 1 1 1]\n",
      "[False False False ... False False False]\n",
      "nombre d'anomalie detecte => 18\n"
     ]
    },
    {
     "data": {
      "text/plain": [
       "Text(0.5, 1.0, '3')"
      ]
     },
     "execution_count": 72,
     "metadata": {},
     "output_type": "execute_result"
    },
    {
     "data": {
      "image/png": "[encoded data removed]",
      "text/plain": [
       "<Figure size 576x648 with 4 Axes>"
      ]
     },
     "metadata": {
      "needs_background": "light"
     },
     "output_type": "display_data"
    }
   ],
   "source": [
    "from sklearn.neighbors import *\n",
    "\n",
    "## modele : local outlier factor  ### le score d'anomalie dépend du degré d'isolement de l'objet par rapport au voisinage\n",
    "\n",
    "modele3=LocalOutlierFactor(contamination=0.01)\n",
    "print(\"prediction =>\",modele3.fit_predict(x1)) #utiliser fit_predict si on travail avec du train_set (novelty=False)\n",
    "\n",
    "anomalie_3= modele3.fit_predict(x1)== -1\n",
    "print(anomalie_3)\n",
    "print(\"nombre d'anomalie detecte =>\",x1[anomalie_3].shape[0])\n",
    "\n",
    "##visualisation de quelques anomalie ##\n",
    "fig2=plt.figure(figsize=(8,9))\n",
    "fig2.add_subplot(2,2,1)\n",
    "plt.imshow(image[anomalie_3][1])\n",
    "plt.title(y1[anomalie_3][1])\n",
    "\n",
    "fig2.add_subplot(2,2,2)\n",
    "plt.imshow(image[anomalie_3][2])\n",
    "plt.title(y1[anomalie_3][2])\n",
    "\n",
    "fig2.add_subplot(2,2,3)\n",
    "plt.imshow(image[anomalie_3][3])\n",
    "plt.title(y1[anomalie_3][3])\n",
    "\n",
    "fig2.add_subplot(2,2,4)\n",
    "plt.imshow(image[anomalie_3][4])\n",
    "plt.title(y1[anomalie_3][4])\n"
   ]
  },
  {
   "cell_type": "code",
   "execution_count": null,
   "id": "b2cf5619-4aca-40bb-b0f7-d4220448a85b",
   "metadata": {},
   "outputs": [],
   "source": []
  }
 ],
 "metadata": {
  "kernelspec": {
   "display_name": "Python 3",
   "language": "python",
   "name": "python3"
  },
  "language_info": {
   "codemirror_mode": {
    "name": "ipython",
    "version": 3
   },
   "file_extension": ".py",
   "mimetype": "text/x-python",
   "name": "python",
   "nbconvert_exporter": "python",
   "pygments_lexer": "ipython3",
   "version": "3.7.3"
  }
 },
 "nbformat": 4,
 "nbformat_minor": 5
}
