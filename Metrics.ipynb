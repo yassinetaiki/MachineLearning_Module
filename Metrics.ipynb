{
 "cells": [
  {
   "cell_type": "code",
   "execution_count": 86,
   "id": "8c4c21e2-b01c-46c9-bc8a-e5823e7863b8",
   "metadata": {},
   "outputs": [
    {
     "name": "stdout",
     "output_type": "stream",
     "text": [
      "[     0.           1209.32514217 -23645.00982348   9223.68217825\n",
      "   4088.94425945]\n",
      "-2458398.7200785037\n",
      "MAE 24131.658311637955\n",
      "MSE 860689141.0366676\n",
      "RMSE 29337.504001476806\n",
      "Mediane 23535.552231864305\n",
      "R2 0.8306470454343272\n",
      "cross_val_score [0.40840673 0.44802571 0.57618648 0.83121088 0.80756245]\n",
      "\n",
      "Meilleure Score 0.6142784508405569\n",
      "Meilleur parametres {'fit_intercept': True, 'n_jobs': 1, 'normalize': False}\n"
     ]
    },
    {
     "data": {
      "text/plain": [
       "(array([2., 4., 3., 1., 4., 1., 1., 2., 0., 2.]),\n",
       " array([  394.72236212,  6297.51829768, 12200.31423324, 18103.11016881,\n",
       "        24005.90610437, 29908.70203993, 35811.4979755 , 41714.29391106,\n",
       "        47617.08984663, 53519.88578219, 59422.68171775]),\n",
       " <BarContainer object of 10 artists>)"
      ]
     },
     "execution_count": 86,
     "metadata": {},
     "output_type": "execute_result"
    },
    {
     "data": {
      "image/png": "[encoded data removed]",
      "text/plain": [
       "<Figure size 432x288 with 1 Axes>"
      ]
     },
     "metadata": {
      "needs_background": "light"
     },
     "output_type": "display_data"
    },
    {
     "data": {
      "image/png": "[encoded data removed]",
      "text/plain": [
       "<Figure size 432x288 with 1 Axes>"
      ]
     },
     "metadata": {
      "needs_background": "light"
     },
     "output_type": "display_data"
    }
   ],
   "source": [
    "import numpy as np \n",
    "import scipy as sp \n",
    "import matplotlib.pyplot as plt \n",
    "import pandas as pd \n",
    "from sklearn.metrics import *\n",
    "from sklearn.model_selection import train_test_split\n",
    "from sklearn.linear_model import LinearRegression\n",
    "from sklearn.model_selection import cross_val_score\n",
    "from sklearn.model_selection import GridSearchCV\n",
    "### MSE : erreure quadratique {1/n Sum(yvrai-ypredit)²}\n",
    "### MAE : erreure absolue moyenne {1/n Sum|yvrai-ypredit|} ,MSE!=(MAE)²\n",
    "## RMSE : sqrt(MSE) , ca permet de remettre a l'echelle la MSE \n",
    "## R² : coefficient de detrmination 1-(MSE/variance)\n",
    "\n",
    "##Pretraitement de donnees##\n",
    "ventes=pd.read_excel(\"VENTES.xlsx\")\n",
    "ventes.head()\n",
    "ventes.describe()\n",
    "ventes.shape\n",
    "ventes.dropna(axis=0,inplace=True)\n",
    "ventes[\"ville\"].replace(['LILLE','LAMBERSART'],[0,1],inplace=True)\n",
    "\n",
    "##modele##\n",
    "x=ventes[[\"ville\",\"annee_cons\",\"nbr_piece\",\"etage\",\"surface\"]]\n",
    "y=ventes[\"prix\"]\n",
    "xtrain,xtest,ytrain,ytest=train_test_split(x,y,train_size=0.7,random_state=5)\n",
    "model=LinearRegression()\n",
    "model.fit(xtrain,ytrain)\n",
    "ypredict=model.predict(xtrain)\n",
    "model.score(xtest,ytest)\n",
    "\n",
    "##coefficient \n",
    "print(model.coef_) ## coefficient w1......Wi\n",
    "print(model.intercept_) ## coefficient w0\n",
    "\n",
    "##erreure \n",
    "print(\"MAE\",mean_absolute_error(ytrain,ypredict))\n",
    "print(\"MSE\",mean_squared_error(ytrain,ypredict))\n",
    "print(\"RMSE\",np.sqrt(mean_squared_error(ytrain,ypredict)))\n",
    "print(\"Mediane\",median_absolute_error(ytrain,ypredict)) #tres peu sensible aux grandes erreures\n",
    "print(\"R2\",r2_score(ytrain,ypredict)) \n",
    "\n",
    "##cross_validation\n",
    "print(\"cross_val_score\",cross_val_score(LinearRegression(),xtrain,ytrain,cv=5))\n",
    "print(\"\")\n",
    "param_grid={\"normalize\":[True,False],\n",
    "            \"n_jobs\":np.arange(1,50),\n",
    "            \"fit_intercept\":[True,False]}\n",
    "grid=GridSearchCV(LinearRegression(),param_grid,cv=5)\n",
    "grid.fit(xtrain,ytrain)\n",
    "print(\"Meilleure Score\",grid.best_score_)\n",
    "print(\"Meilleur parametres\",grid.best_params_)\n",
    "\n",
    "##visualisation \n",
    "fig1=plt.figure()\n",
    "x1=np.arange(0,ytrain.shape[0])\n",
    "plt.scatter(x1,ytrain,c='r',label='data')\n",
    "plt.scatter(x1,ypredict,c='b',label='model')\n",
    "plt.legend()\n",
    "\n",
    "\n",
    "fig2=plt.figure()\n",
    "error=np.abs(ytrain-ypredict) ##affichage l'evolution d'erreure par histogramme\n",
    "plt.hist(error,bins=10)\n",
    "\n",
    "\n"
   ]
  },
  {
   "cell_type": "code",
   "execution_count": null,
   "id": "19f89c08-3e5d-43e9-910f-6490cbc0d35e",
   "metadata": {},
   "outputs": [],
   "source": []
  }
 ],
 "metadata": {
  "kernelspec": {
   "display_name": "Python 3",
   "language": "python",
   "name": "python3"
  },
  "language_info": {
   "codemirror_mode": {
    "name": "ipython",
    "version": 3
   },
   "file_extension": ".py",
   "mimetype": "text/x-python",
   "name": "python",
   "nbconvert_exporter": "python",
   "pygments_lexer": "ipython3",
   "version": "3.7.3"
  }
 },
 "nbformat": 4,
 "nbformat_minor": 5
}
