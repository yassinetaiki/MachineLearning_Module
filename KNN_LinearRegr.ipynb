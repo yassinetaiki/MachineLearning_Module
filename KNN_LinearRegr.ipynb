{
 "cells": [
  {
   "cell_type": "code",
   "execution_count": 45,
   "id": "af8ef85a-557d-439e-af42-d47e2d438504",
   "metadata": {},
   "outputs": [
    {
     "name": "stdout",
     "output_type": "stream",
     "text": [
      "prediction ADL ==> [1 0 0 1 0 0 0 0 1 1 0 1 0 1 1 0 1 0 0 0 1 0 0 0 0 1 0 0 1 1 0 0 1 1 1 1 0\n",
      " 1 1 1 0 1 1 1 1 0 1 0 0 0 0 0 1 0 1 1 0 0 0]\n",
      "\n",
      "predictions Kneibghors== [1 1 0 1 0 0 1 1 1 1 0 1 1 1 1 1 1 0 1 1 1 0 1 0 0 1 1 1 0 1 0 1 1 1 1 1 1\n",
      " 1 1 1 1 1 1 1 1 0 1 1 1 1 1 1 1 0 1 1 1 0 1]\n",
      "score modele  pour Anaylse dscriminante lineaire est==> 72.88135593220339 %\n",
      "score modele pour KNeibhros est 71.1864406779661 %\n",
      "\n",
      "classes ==> [0 1]\n",
      "Matrice confusion ADL\n",
      "[[18  2]\n",
      " [14 25]]\n",
      "matrice confusion KNN\n",
      "[[ 8 12]\n",
      " [ 5 34]]\n"
     ]
    },
    {
     "data": {
      "text/plain": [
       "Text(0.5, 15.0, 'classes reels')"
      ]
     },
     "execution_count": 45,
     "metadata": {},
     "output_type": "execute_result"
    },
    {
     "data": {
      "image/png": "[encoded data removed]",
      "text/plain": [
       "<Figure size 432x288 with 2 Axes>"
      ]
     },
     "metadata": {
      "needs_background": "light"
     },
     "output_type": "display_data"
    },
    {
     "data": {
      "image/png": "[encoded data removed]",
      "text/plain": [
       "<Figure size 432x288 with 2 Axes>"
      ]
     },
     "metadata": {
      "needs_background": "light"
     },
     "output_type": "display_data"
    }
   ],
   "source": [
    "import numpy as np \n",
    "import scipy as sp \n",
    "import pandas as pd \n",
    "import matplotlib.pyplot as plt \n",
    "from sklearn.linear_model import LinearRegression\n",
    "from sklearn.discriminant_analysis import LinearDiscriminantAnalysis\n",
    "from sklearn.neighbors import KNeighborsClassifier\n",
    "from sklearn import metrics\n",
    "import seaborn as sns\n",
    "\n",
    "\n",
    "titanic=pd.read_excel('titanic.xls')\n",
    "titanic.drop(['boat','body','home.dest'],axis=1,inplace=True)\n",
    "titanic.dropna(axis=0,inplace=True)\n",
    "titanic['sex'].replace(['male','female'],[0,1], inplace=True)\n",
    "mon_model=LinearDiscriminantAnalysis()\n",
    "mon_model2=KNeighborsClassifier(n_neighbors=4)\n",
    "\n",
    "x=titanic.iloc[0:200,[3,4,5,6]]\n",
    "y=titanic.iloc[0:200,1]\n",
    "\n",
    "x_test=titanic.iloc[201:260,[3,4,5,6]]\n",
    "y_test=titanic.iloc[201:260,1]\n",
    "\n",
    "\n",
    "mon_model2.fit(x,y)\n",
    "mon_model.fit(x,y)\n",
    "\n",
    "pred1=mon_model.predict(x_test)\n",
    "pred2=mon_model2.predict(x_test)\n",
    "conf1=metrics.confusion_matrix(y_test,pred1)\n",
    "conf2=metrics.confusion_matrix(y_test,pred2)\n",
    "print(\"prediction ADL ==>\",mon_model.predict(x_test))\n",
    "print(\"\")\n",
    "print(\"predictions Kneibghors==\",mon_model2.predict(x_test))\n",
    "print(\"score modele  pour Anaylse dscriminante lineaire est==>\",mon_model.score(x_test,y_test)*100,\"%\")\n",
    "print(\"score modele pour KNeibhros est\",mon_model2.score(x_test,y_test)*100,\"%\")\n",
    "print(\"\")\n",
    "print(\"classes ==>\",mon_model2.classes_)\n",
    "print(\"Matrice confusion ADL\")\n",
    "print(metrics.confusion_matrix(y_test,pred1))\n",
    "print(\"matrice confusion KNN\")\n",
    "print(metrics.confusion_matrix(y_test,pred2))\n",
    "sns.heatmap(conf1 , annot=True)\n",
    "plt.ylabel(\"classes Predictes\")\n",
    "plt.xlabel(\"classes reels\")\n",
    "\n",
    "fig1=plt.figure()\n",
    "sns.heatmap(conf2 , annot=True)\n",
    "plt.ylabel(\"classes Predictes\")\n",
    "plt.xlabel(\"classes reels\")\n",
    "\n",
    "\n",
    "\n",
    "\n"
   ]
  },
  {
   "cell_type": "code",
   "execution_count": null,
   "id": "f4b220c0-b363-478e-b69c-2faa59282a33",
   "metadata": {},
   "outputs": [],
   "source": []
  }
 ],
 "metadata": {
  "kernelspec": {
   "display_name": "Python 3",
   "language": "python",
   "name": "python3"
  },
  "language_info": {
   "codemirror_mode": {
    "name": "ipython",
    "version": 3
   },
   "file_extension": ".py",
   "mimetype": "text/x-python",
   "name": "python",
   "nbconvert_exporter": "python",
   "pygments_lexer": "ipython3",
   "version": "3.7.3"
  }
 },
 "nbformat": 4,
 "nbformat_minor": 5
}
